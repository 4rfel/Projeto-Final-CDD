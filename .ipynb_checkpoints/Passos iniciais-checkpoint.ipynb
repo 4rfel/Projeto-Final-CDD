{
 "cells": [
  {
   "cell_type": "code",
   "execution_count": null,
   "metadata": {},
   "outputs": [],
   "source": [
    "import pandas as pd\n",
    "data = pd.read_csv(\"olist_public_dataset_v2.csv\")\n",
    "data.set_index('order_id')\n",
    "data.head()"
   ]
  },
  {
   "cell_type": "code",
   "execution_count": null,
   "metadata": {},
   "outputs": [],
   "source": [
    "def dummify(data, column_name):\n",
    "    \"\"\"\n",
    "        Converte a coluna column_name em dummies / one-hot e as adiciona ao dataframe\n",
    "        retorna uma copia do  df original *sem* a coluna que foi dummified\n",
    "    \"\"\"\n",
    "    df = data.copy()\n",
    "    # Nota: se você for um econometrista, pode se interessar por usar a opção dropFirst = True na get_dummies\n",
    "    df2 = pd.concat([df.drop(column_name, axis=1), pd.get_dummies(data[column_name], prefix=column_name)], axis=1)\n",
    "    return df2"
   ]
  },
  {
   "cell_type": "code",
   "execution_count": null,
   "metadata": {},
   "outputs": [],
   "source": [
    "lista_classificacao= []\n",
    "for i in data.review_score:\n",
    "    \n",
    "    if i == 5 or i == 4:\n",
    "        classificacao = 1\n",
    "        \n",
    "    if i ==3:\n",
    "        classificacao = 0\n",
    "        \n",
    "    if i == 2 or i == 1:\n",
    "        classificacao = -1\n",
    "        \n",
    "    lista_classificacao.append(classificacao)\n",
    "    \n",
    "data[\"Classificacao\"]=lista_classificacao\n",
    "data['delivery_date'] = pd.to_datetime(data['order_delivered_customer_date'])\n",
    "data['aproved_date'] = pd.to_datetime(data['order_aproved_at'])\n",
    "data['delta time'] = data['delivery_date'] - data['aproved_date']\n",
    "data['delta_days'] = (data['delta time'].dt.days)\n",
    "\n",
    "\n",
    "data.order_delivered_customer_date[0]"
   ]
  },
  {
   "cell_type": "code",
   "execution_count": null,
   "metadata": {},
   "outputs": [],
   "source": [
    "# data['customer_state'].value_counts()"
   ]
  },
  {
   "cell_type": "code",
   "execution_count": null,
   "metadata": {},
   "outputs": [],
   "source": [
    "data = dummify(data, 'customer_state')"
   ]
  },
  {
   "cell_type": "code",
   "execution_count": null,
   "metadata": {},
   "outputs": [],
   "source": [
    "from sklearn.model_selection import train_test_split\n",
    "\n",
    "df = data[['order_products_value', 'order_freight_value', 'product_description_lenght', 'product_photos_qty', 'review_score', 'review_comment_message', 'delta_days', 'Classificacao', 'customer_state_AC', 'customer_state_AL', 'customer_state_AM',\n",
    "       'customer_state_AP', 'customer_state_BA', 'customer_state_CE',\n",
    "       'customer_state_DF', 'customer_state_ES', 'customer_state_GO',\n",
    "       'customer_state_MA', 'customer_state_MG', 'customer_state_MS',\n",
    "       'customer_state_MT', 'customer_state_PA', 'customer_state_PB',\n",
    "       'customer_state_PE', 'customer_state_PI', 'customer_state_PR',\n",
    "       'customer_state_RJ', 'customer_state_RN', 'customer_state_RO',\n",
    "       'customer_state_RR', 'customer_state_RS', 'customer_state_SC',\n",
    "       'customer_state_SE', 'customer_state_SP', 'customer_state_TO']]\n",
    "df = df.dropna()\n",
    "\n",
    "print(len(df))\n",
    "dados_treinamento, dados_teste = train_test_split(df, test_size=0.3)\n",
    "print(len(dados_treinamento))\n",
    "print(len(dados_teste))\n",
    "data.head()"
   ]
  },
  {
   "cell_type": "code",
   "execution_count": null,
   "metadata": {},
   "outputs": [],
   "source": []
  },
  {
   "cell_type": "code",
   "execution_count": null,
   "metadata": {},
   "outputs": [],
   "source": [
    "y_train= dados_treinamento.Classificacao\n",
    "x_train= dados_treinamento.review_comment_message\n",
    "x_test= dados_teste.review_comment_message\n",
    "y_test= dados_teste.Classificacao"
   ]
  },
  {
   "cell_type": "code",
   "execution_count": null,
   "metadata": {
    "scrolled": false
   },
   "outputs": [],
   "source": [
    "from sklearn.feature_extraction.text import CountVectorizer\n",
    "from sklearn.metrics import accuracy_score\n",
    "from sklearn.naive_bayes import MultinomialNB\n",
    "from sklearn.pipeline import Pipeline\n",
    "\n",
    "# Cria modelo.\n",
    "model = Pipeline([\n",
    "    (\"vectorizer\", CountVectorizer()),\n",
    "    (\"classifier\", MultinomialNB())\n",
    "])\n",
    "\n",
    "# Treina modelo.\n",
    "model.fit(x_train, y_train)"
   ]
  },
  {
   "cell_type": "code",
   "execution_count": null,
   "metadata": {},
   "outputs": [],
   "source": [
    "# Testa modelo.\n",
    "pos_prob = []\n",
    "neg_prob = []\n",
    "neu_prob = []\n",
    "probs = model.predict_proba(x_train)\n",
    "for e in probs:\n",
    "    neg_prob.append(e[0])\n",
    "    neu_prob.append(e[1])\n",
    "    pos_prob.append(e[2])\n",
    "dados_treinamento['pos_prob'] = pos_prob\n",
    "dados_treinamento['neg_prob'] = neg_prob\n",
    "dados_treinamento['neu_prob'] = neu_prob\n",
    "dados_treinamento.head()\n",
    "\n",
    "\n",
    "pos_prob = []\n",
    "neg_prob = []\n",
    "neu_prob = []\n",
    "probs = model.predict_proba(x_test)\n",
    "for e in probs:\n",
    "    neg_prob.append(e[0])\n",
    "    neu_prob.append(e[1])\n",
    "    pos_prob.append(e[2])\n",
    "dados_teste['pos_prob'] = pos_prob\n",
    "dados_teste['neg_prob'] = neg_prob\n",
    "dados_teste['neu_prob'] = neu_prob"
   ]
  },
  {
   "cell_type": "code",
   "execution_count": null,
   "metadata": {},
   "outputs": [],
   "source": [
    "dados_treinamento.to_csv('train_data.csv')\n",
    "dados_teste.to_csv('test_data.csv')"
   ]
  },
  {
   "cell_type": "code",
   "execution_count": null,
   "metadata": {},
   "outputs": [],
   "source": [
    "data.columns"
   ]
  },
  {
   "cell_type": "code",
   "execution_count": null,
   "metadata": {},
   "outputs": [],
   "source": [
    "import matplotlib.pyplot as plt\n",
    "pd.plotting.scatter_matrix(dados,figsize=(14,14), diagonal='kde');\n",
    "plt.suptitle('Scatter Matrix 2')\n",
    "plt.show()"
   ]
  }
 ],
 "metadata": {
  "kernelspec": {
   "display_name": "Python 3",
   "language": "python",
   "name": "python3"
  },
  "language_info": {
   "codemirror_mode": {
    "name": "ipython",
    "version": 3
   },
   "file_extension": ".py",
   "mimetype": "text/x-python",
   "name": "python",
   "nbconvert_exporter": "python",
   "pygments_lexer": "ipython3",
   "version": "3.6.4"
  }
 },
 "nbformat": 4,
 "nbformat_minor": 2
}
