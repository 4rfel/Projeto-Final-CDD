{
 "cells": [
  {
   "cell_type": "markdown",
   "metadata": {},
   "source": [
    "# Pergunta 1\n",
    "\n",
    "De qual forma o texto e a quantidade de imagens de um anúncio de e-commerce afetam em suas vendas?\n",
    "(Regressão)"
   ]
  },
  {
   "cell_type": "code",
   "execution_count": null,
   "metadata": {},
   "outputs": [],
   "source": [
    "#Dataset\n",
    "import pandas as pd\n",
    "import re\n",
    "\n",
    "\n",
    "print()\n",
    "\n",
    "dados= pd.read_excel(\"tweets_certos_2.0.xlsx\")\n",
    "\n",
    "csv = dados_idx.to_csv()\n",
    "new_dados = []\n",
    "print(csv)\n",
    "for tweet in dados_idx:\n",
    "    Tweets= re.sub(\"[^0-9a-zA-Z ]\", \"\", tweet)"
   ]
  },
  {
   "cell_type": "markdown",
   "metadata": {},
   "source": [
    "# Pergunta 2\n",
    "\n",
    "Como a receita de um filme é afetada por fatores como sua data de lançamento e orçamento inicial? (Regressão)"
   ]
  },
  {
   "cell_type": "code",
   "execution_count": null,
   "metadata": {},
   "outputs": [],
   "source": [
    "#Dataset"
   ]
  },
  {
   "cell_type": "markdown",
   "metadata": {},
   "source": [
    "# Pergunta 3\n",
    "\n",
    "Como a configuração de um notebook afeta seu preço (Regressão)"
   ]
  },
  {
   "cell_type": "code",
   "execution_count": null,
   "metadata": {},
   "outputs": [],
   "source": [
    "#Datset"
   ]
  }
 ],
 "metadata": {
  "kernelspec": {
   "display_name": "Python 3",
   "language": "python",
   "name": "python3"
  },
  "language_info": {
   "codemirror_mode": {
    "name": "ipython",
    "version": 3
   },
   "file_extension": ".py",
   "mimetype": "text/x-python",
   "name": "python",
   "nbconvert_exporter": "python",
   "pygments_lexer": "ipython3",
   "version": "3.6.4"
  }
 },
 "nbformat": 4,
 "nbformat_minor": 2
}
