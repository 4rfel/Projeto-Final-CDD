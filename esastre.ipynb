{
 "cells": [
  {
   "cell_type": "markdown",
   "metadata": {},
   "source": [
    "# Pergunta 1\n",
    "\n",
    "De qual forma o texto e a quantidade de imagens de um anúncio de e-commerce afetam em suas vendas?\n",
    "(Regressão)"
   ]
  },
  {
   "cell_type": "code",
   "execution_count": null,
   "metadata": {},
   "outputs": [],
   "source": [
    "#Dataset\n",
    "import pandas as pd\n",
    "\n",
    "\n",
    "# dados_ecommerce = pd.read_csv(\"olist_public_dataset_v2.csv\")\n",
    "# dados_ecommerce.set_index('order_id')\n",
    "# dados_ecommerce.head()\n",
    "# comentado pq o arquivo eh muito grande\n",
    "\n"
   ]
  },
  {
   "cell_type": "markdown",
   "metadata": {},
   "source": [
    "# Pergunta 2\n",
    "\n",
    "Como a receita de um filme é afetada por fatores como sua data de lançamento e orçamento inicial? (Regressão)"
   ]
  },
  {
   "cell_type": "code",
   "execution_count": null,
   "metadata": {},
   "outputs": [],
   "source": [
    "#Dataset(\n",
    "\n",
    "dados_filmes = pd.read_csv('tmdb_5000_movies.csv')\n",
    "dados_filmes = dados_filmes.set_index('original_title')\n",
    "dados_filmes.head() "
   ]
  },
  {
   "cell_type": "markdown",
   "metadata": {},
   "source": [
    "# Pergunta 3\n",
    "\n",
    "Como a configuração de um notebook afeta seu preço (Regressão)"
   ]
  },
  {
   "cell_type": "code",
   "execution_count": null,
   "metadata": {},
   "outputs": [],
   "source": [
    "#Datset\n",
    "\n",
    "dados_note = pd.read_csv('laptops.csv', encoding='latin-1')\n",
    "dados_note = dados_note.set_index('Unnamed: 0')\n",
    "dados_note.index.name = 'Index'\n",
    "dados_note.head()"
   ]
  },
  {
   "cell_type": "code",
   "execution_count": null,
   "metadata": {},
   "outputs": [],
   "source": []
  }
 ],
 "metadata": {
  "kernelspec": {
   "display_name": "Python 3",
   "language": "python",
   "name": "python3"
  },
  "language_info": {
   "codemirror_mode": {
    "name": "ipython",
    "version": 3
   },
   "file_extension": ".py",
   "mimetype": "text/x-python",
   "name": "python",
   "nbconvert_exporter": "python",
   "pygments_lexer": "ipython3",
   "version": "3.6.4"
  }
 },
 "nbformat": 4,
 "nbformat_minor": 2
}
