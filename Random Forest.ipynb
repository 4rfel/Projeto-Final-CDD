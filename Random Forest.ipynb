{
 "cells": [
  {
   "cell_type": "code",
   "execution_count": 12,
   "metadata": {},
   "outputs": [],
   "source": [
    "#========================= Imports =======================\n",
    "import pandas as pd\n",
    "import numpy as np\n",
    "from sklearn.model_selection import cross_val_score\n",
    "from sklearn.ensemble import RandomForestRegressor\n"
   ]
  },
  {
   "cell_type": "code",
   "execution_count": 3,
   "metadata": {},
   "outputs": [
    {
     "data": {
      "text/plain": [
       "28624"
      ]
     },
     "execution_count": 3,
     "metadata": {},
     "output_type": "execute_result"
    }
   ],
   "source": [
    "data = pd.read_csv('train_data.csv')\n",
    "len(data)\n"
   ]
  },
  {
   "cell_type": "code",
   "execution_count": 4,
   "metadata": {},
   "outputs": [],
   "source": [
    "#========================= Organização dos dados de treinamento =======================\n",
    "x_train = data[['order_freight_value', 'product_description_lenght', 'delta_days', 'pos_prob', 'neg_prob', 'neu_prob','customer_state_AC',\n",
    "       'customer_state_AL', 'customer_state_AM', 'customer_state_AP',\n",
    "       'customer_state_BA', 'customer_state_CE', 'customer_state_DF',\n",
    "       'customer_state_ES', 'customer_state_GO', 'customer_state_MA',\n",
    "       'customer_state_MG', 'customer_state_MS', 'customer_state_MT',\n",
    "       'customer_state_PA', 'customer_state_PB', 'customer_state_PE',\n",
    "       'customer_state_PI', 'customer_state_PR', 'customer_state_RJ',\n",
    "       'customer_state_RN', 'customer_state_RO', 'customer_state_RR',\n",
    "       'customer_state_RS', 'customer_state_SC', 'customer_state_SE',\n",
    "       'customer_state_SP', 'customer_state_TO']]\n",
    "y_train = data['review_score']"
   ]
  },
  {
   "cell_type": "code",
   "execution_count": 14,
   "metadata": {},
   "outputs": [
    {
     "data": {
      "text/plain": [
       "array([4.89806418e-02, 5.03882929e-02, 4.14946503e-02, 8.14441214e-02,\n",
       "       6.79746351e-01, 6.14687182e-02, 1.27544758e-04, 4.93069427e-04,\n",
       "       3.59300910e-04, 8.86592638e-05, 2.28419671e-03, 1.14131841e-03,\n",
       "       1.55459950e-03, 1.51249539e-03, 1.78053887e-03, 8.41224984e-04,\n",
       "       4.09975574e-03, 8.41901856e-04, 9.61116933e-04, 9.75374620e-04,\n",
       "       6.13098799e-04, 1.40105523e-03, 2.75001489e-04, 2.07555774e-03,\n",
       "       4.03862006e-03, 5.36539546e-04, 6.20881062e-04, 1.40466305e-04,\n",
       "       2.36523912e-03, 2.09991961e-03, 2.90886454e-04, 4.39109927e-03,\n",
       "       5.67762444e-04])"
      ]
     },
     "execution_count": 14,
     "metadata": {},
     "output_type": "execute_result"
    }
   ],
   "source": [
    "#========================= Aplicação do programa de Random Forest =======================\n",
    "regr = RandomForestRegressor(n_estimators=100, max_depth=None)\n",
    "regr.fit(x_train,y_train)\n",
    "regr.feature_importances_"
   ]
  },
  {
   "cell_type": "code",
   "execution_count": 15,
   "metadata": {},
   "outputs": [],
   "source": [
    "#========================= Crossvalidation =======================\n",
    "cross = cross_val_score(regr, x_train, y_train, cv=10)"
   ]
  },
  {
   "cell_type": "code",
   "execution_count": 16,
   "metadata": {},
   "outputs": [
    {
     "data": {
      "text/plain": [
       "0.6998768538844283"
      ]
     },
     "execution_count": 16,
     "metadata": {},
     "output_type": "execute_result"
    }
   ],
   "source": [
    "#================== Média do crossvalidation ================\n",
    "np.mean(cross)"
   ]
  },
  {
   "cell_type": "code",
   "execution_count": 7,
   "metadata": {},
   "outputs": [
    {
     "data": {
      "text/plain": [
       "12268"
      ]
     },
     "execution_count": 7,
     "metadata": {},
     "output_type": "execute_result"
    }
   ],
   "source": [
    "test_data = pd.read_csv('test_data.csv')\n",
    "len(test_data)"
   ]
  },
  {
   "cell_type": "code",
   "execution_count": 8,
   "metadata": {},
   "outputs": [],
   "source": [
    "#========================= Organização dos dados de teste =======================\n",
    "x_test = test_data[['order_freight_value', 'product_description_lenght', 'delta_days', 'pos_prob', 'neg_prob', 'neu_prob', 'customer_state_AC',\n",
    "       'customer_state_AL', 'customer_state_AM', 'customer_state_AP',\n",
    "       'customer_state_BA', 'customer_state_CE', 'customer_state_DF',\n",
    "       'customer_state_ES', 'customer_state_GO', 'customer_state_MA',\n",
    "       'customer_state_MG', 'customer_state_MS', 'customer_state_MT',\n",
    "       'customer_state_PA', 'customer_state_PB', 'customer_state_PE',\n",
    "       'customer_state_PI', 'customer_state_PR', 'customer_state_RJ',\n",
    "       'customer_state_RN', 'customer_state_RO', 'customer_state_RR',\n",
    "       'customer_state_RS', 'customer_state_SC', 'customer_state_SE',\n",
    "       'customer_state_SP', 'customer_state_TO']]\n",
    "y_test = test_data['review_score']"
   ]
  },
  {
   "cell_type": "code",
   "execution_count": 26,
   "metadata": {},
   "outputs": [],
   "source": [
    "#========================= Predict =======================\n",
    "predictions = (regr.predict(x_test))"
   ]
  },
  {
   "cell_type": "code",
   "execution_count": 25,
   "metadata": {},
   "outputs": [
    {
     "data": {
      "text/html": [
       "<div>\n",
       "<style scoped>\n",
       "    .dataframe tbody tr th:only-of-type {\n",
       "        vertical-align: middle;\n",
       "    }\n",
       "\n",
       "    .dataframe tbody tr th {\n",
       "        vertical-align: top;\n",
       "    }\n",
       "\n",
       "    .dataframe thead th {\n",
       "        text-align: right;\n",
       "    }\n",
       "</style>\n",
       "<table border=\"1\" class=\"dataframe\">\n",
       "  <thead>\n",
       "    <tr style=\"text-align: right;\">\n",
       "      <th></th>\n",
       "      <th>Unnamed: 0</th>\n",
       "      <th>order_products_value</th>\n",
       "      <th>order_freight_value</th>\n",
       "      <th>product_description_lenght</th>\n",
       "      <th>product_photos_qty</th>\n",
       "      <th>review_score</th>\n",
       "      <th>review_comment_message</th>\n",
       "      <th>delta_days</th>\n",
       "      <th>Classificacao</th>\n",
       "      <th>customer_state_AC</th>\n",
       "      <th>...</th>\n",
       "      <th>customer_state_RR</th>\n",
       "      <th>customer_state_RS</th>\n",
       "      <th>customer_state_SC</th>\n",
       "      <th>customer_state_SE</th>\n",
       "      <th>customer_state_SP</th>\n",
       "      <th>customer_state_TO</th>\n",
       "      <th>pos_prob</th>\n",
       "      <th>neg_prob</th>\n",
       "      <th>neu_prob</th>\n",
       "      <th>Prediction</th>\n",
       "    </tr>\n",
       "  </thead>\n",
       "  <tbody>\n",
       "    <tr>\n",
       "      <th>0</th>\n",
       "      <td>13020</td>\n",
       "      <td>49.00</td>\n",
       "      <td>17.65</td>\n",
       "      <td>348</td>\n",
       "      <td>2</td>\n",
       "      <td>1</td>\n",
       "      <td>demora demais para entrega do produto</td>\n",
       "      <td>23.0</td>\n",
       "      <td>-1</td>\n",
       "      <td>0</td>\n",
       "      <td>...</td>\n",
       "      <td>0</td>\n",
       "      <td>0</td>\n",
       "      <td>0</td>\n",
       "      <td>0</td>\n",
       "      <td>0</td>\n",
       "      <td>0</td>\n",
       "      <td>0.802357</td>\n",
       "      <td>0.152163</td>\n",
       "      <td>0.045480</td>\n",
       "      <td>1.89</td>\n",
       "    </tr>\n",
       "    <tr>\n",
       "      <th>1</th>\n",
       "      <td>60824</td>\n",
       "      <td>890.00</td>\n",
       "      <td>116.87</td>\n",
       "      <td>543</td>\n",
       "      <td>1</td>\n",
       "      <td>5</td>\n",
       "      <td>produto recebido no prazo e em perfeitas condi...</td>\n",
       "      <td>19.0</td>\n",
       "      <td>1</td>\n",
       "      <td>0</td>\n",
       "      <td>...</td>\n",
       "      <td>0</td>\n",
       "      <td>1</td>\n",
       "      <td>0</td>\n",
       "      <td>0</td>\n",
       "      <td>0</td>\n",
       "      <td>0</td>\n",
       "      <td>0.999416</td>\n",
       "      <td>0.000187</td>\n",
       "      <td>0.000397</td>\n",
       "      <td>4.73</td>\n",
       "    </tr>\n",
       "    <tr>\n",
       "      <th>2</th>\n",
       "      <td>8239</td>\n",
       "      <td>129.00</td>\n",
       "      <td>12.32</td>\n",
       "      <td>617</td>\n",
       "      <td>3</td>\n",
       "      <td>4</td>\n",
       "      <td>houve um pouco de demora mas deu tudo certo ob...</td>\n",
       "      <td>17.0</td>\n",
       "      <td>1</td>\n",
       "      <td>0</td>\n",
       "      <td>...</td>\n",
       "      <td>0</td>\n",
       "      <td>0</td>\n",
       "      <td>0</td>\n",
       "      <td>0</td>\n",
       "      <td>1</td>\n",
       "      <td>0</td>\n",
       "      <td>0.933255</td>\n",
       "      <td>0.000794</td>\n",
       "      <td>0.065951</td>\n",
       "      <td>3.30</td>\n",
       "    </tr>\n",
       "    <tr>\n",
       "      <th>3</th>\n",
       "      <td>13247</td>\n",
       "      <td>117.99</td>\n",
       "      <td>9.64</td>\n",
       "      <td>916</td>\n",
       "      <td>1</td>\n",
       "      <td>5</td>\n",
       "      <td>obrigado eu recomendo baratheon</td>\n",
       "      <td>4.0</td>\n",
       "      <td>1</td>\n",
       "      <td>0</td>\n",
       "      <td>...</td>\n",
       "      <td>0</td>\n",
       "      <td>0</td>\n",
       "      <td>0</td>\n",
       "      <td>0</td>\n",
       "      <td>1</td>\n",
       "      <td>0</td>\n",
       "      <td>0.991217</td>\n",
       "      <td>0.006855</td>\n",
       "      <td>0.001928</td>\n",
       "      <td>4.57</td>\n",
       "    </tr>\n",
       "    <tr>\n",
       "      <th>4</th>\n",
       "      <td>64389</td>\n",
       "      <td>179.40</td>\n",
       "      <td>53.01</td>\n",
       "      <td>1991</td>\n",
       "      <td>2</td>\n",
       "      <td>5</td>\n",
       "      <td>lindo o papel de parede</td>\n",
       "      <td>14.0</td>\n",
       "      <td>1</td>\n",
       "      <td>0</td>\n",
       "      <td>...</td>\n",
       "      <td>0</td>\n",
       "      <td>0</td>\n",
       "      <td>0</td>\n",
       "      <td>0</td>\n",
       "      <td>0</td>\n",
       "      <td>0</td>\n",
       "      <td>0.970413</td>\n",
       "      <td>0.008010</td>\n",
       "      <td>0.021576</td>\n",
       "      <td>4.62</td>\n",
       "    </tr>\n",
       "  </tbody>\n",
       "</table>\n",
       "<p>5 rows × 40 columns</p>\n",
       "</div>"
      ],
      "text/plain": [
       "   Unnamed: 0  order_products_value  order_freight_value  \\\n",
       "0       13020                 49.00                17.65   \n",
       "1       60824                890.00               116.87   \n",
       "2        8239                129.00                12.32   \n",
       "3       13247                117.99                 9.64   \n",
       "4       64389                179.40                53.01   \n",
       "\n",
       "   product_description_lenght  product_photos_qty  review_score  \\\n",
       "0                         348                   2             1   \n",
       "1                         543                   1             5   \n",
       "2                         617                   3             4   \n",
       "3                         916                   1             5   \n",
       "4                        1991                   2             5   \n",
       "\n",
       "                              review_comment_message  delta_days  \\\n",
       "0              demora demais para entrega do produto        23.0   \n",
       "1  produto recebido no prazo e em perfeitas condi...        19.0   \n",
       "2  houve um pouco de demora mas deu tudo certo ob...        17.0   \n",
       "3                    obrigado eu recomendo baratheon         4.0   \n",
       "4                            lindo o papel de parede        14.0   \n",
       "\n",
       "   Classificacao  customer_state_AC     ...      customer_state_RR  \\\n",
       "0             -1                  0     ...                      0   \n",
       "1              1                  0     ...                      0   \n",
       "2              1                  0     ...                      0   \n",
       "3              1                  0     ...                      0   \n",
       "4              1                  0     ...                      0   \n",
       "\n",
       "   customer_state_RS  customer_state_SC  customer_state_SE  customer_state_SP  \\\n",
       "0                  0                  0                  0                  0   \n",
       "1                  1                  0                  0                  0   \n",
       "2                  0                  0                  0                  1   \n",
       "3                  0                  0                  0                  1   \n",
       "4                  0                  0                  0                  0   \n",
       "\n",
       "   customer_state_TO  pos_prob  neg_prob  neu_prob  Prediction  \n",
       "0                  0  0.802357  0.152163  0.045480        1.89  \n",
       "1                  0  0.999416  0.000187  0.000397        4.73  \n",
       "2                  0  0.933255  0.000794  0.065951        3.30  \n",
       "3                  0  0.991217  0.006855  0.001928        4.57  \n",
       "4                  0  0.970413  0.008010  0.021576        4.62  \n",
       "\n",
       "[5 rows x 40 columns]"
      ]
     },
     "execution_count": 25,
     "metadata": {},
     "output_type": "execute_result"
    }
   ],
   "source": [
    "#========================= Adiciona uma coluna predictions ao database =======================\n",
    "test_data['Prediction'] = predictions\n",
    "test_data.head()"
   ]
  },
  {
   "cell_type": "code",
   "execution_count": 26,
   "metadata": {},
   "outputs": [],
   "source": [
    "#========================= Imports =======================\n",
    "from sklearn.metrics import r2_score\n",
    "import numpy as np"
   ]
  },
  {
   "cell_type": "code",
   "execution_count": 27,
   "metadata": {},
   "outputs": [
    {
     "data": {
      "text/plain": [
       "0.6522261736363673"
      ]
     },
     "execution_count": 27,
     "metadata": {},
     "output_type": "execute_result"
    }
   ],
   "source": [
    "#========================= Cálculo do R quadrado =======================\n",
    "r2_score(y_test, predictions)"
   ]
  },
  {
   "cell_type": "code",
   "execution_count": 50,
   "metadata": {},
   "outputs": [
    {
     "data": {
      "text/plain": [
       "<matplotlib.axes._subplots.AxesSubplot at 0x1a1b805de80>"
      ]
     },
     "execution_count": 50,
     "metadata": {},
     "output_type": "execute_result"
    },
    {
     "data": {
      "image/png": "[encoded data removed]",
      "text/plain": [
       "<matplotlib.figure.Figure at 0x1a1b7ea7780>"
      ]
     },
     "metadata": {},
     "output_type": "display_data"
    }
   ],
   "source": [
    "#========================= Visualização gráfica dos resultados da regressão =======================\n",
    "\n",
    "test_data['Prediction'].hist(bins=5, density=True, color='red')\n",
    "test_data['review_score'].hist(bins=5, density=True, color='blue')"
   ]
  },
  {
   "cell_type": "code",
   "execution_count": 52,
   "metadata": {},
   "outputs": [
    {
     "data": {
      "text/plain": [
       "<matplotlib.axes._subplots.AxesSubplot at 0x1a1b805dc50>"
      ]
     },
     "execution_count": 52,
     "metadata": {},
     "output_type": "execute_result"
    },
    {
     "data": {
      "image/png": "[encoded data removed]",
      "text/plain": [
       "<matplotlib.figure.Figure at 0x1a1b9a4b2e8>"
      ]
     },
     "metadata": {},
     "output_type": "display_data"
    }
   ],
   "source": [
    "#========================= Visualização gráfica dos resultados da regressão =======================\n",
    "\n",
    "test_data['review_score'].hist(bins=5, density=True, color='blue')\n",
    "test_data['Prediction'].hist(bins=5, density=True, color='red')"
   ]
  }
 ],
 "metadata": {
  "kernelspec": {
   "display_name": "Python 3",
   "language": "python",
   "name": "python3"
  },
  "language_info": {
   "codemirror_mode": {
    "name": "ipython",
    "version": 3
   },
   "file_extension": ".py",
   "mimetype": "text/x-python",
   "name": "python",
   "nbconvert_exporter": "python",
   "pygments_lexer": "ipython3",
   "version": "3.6.4"
  }
 },
 "nbformat": 4,
 "nbformat_minor": 2
}
