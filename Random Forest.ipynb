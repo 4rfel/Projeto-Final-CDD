{
 "cells": [
  {
   "cell_type": "code",
   "execution_count": 13,
   "metadata": {},
   "outputs": [],
   "source": [
    "import pandas as pd\n",
    "\n",
    "from sklearn.model_selection import cross_val_score\n",
    "from sklearn.ensemble import RandomForestRegressor\n"
   ]
  },
  {
   "cell_type": "code",
   "execution_count": 52,
   "metadata": {},
   "outputs": [
    {
     "data": {
      "text/plain": [
       "24535"
      ]
     },
     "execution_count": 52,
     "metadata": {},
     "output_type": "execute_result"
    }
   ],
   "source": [
    "data = pd.read_csv('train_data.csv')\n",
    "len(data)\n"
   ]
  },
  {
   "cell_type": "code",
   "execution_count": 53,
   "metadata": {},
   "outputs": [],
   "source": [
    "x_train = data[['order_products_value', 'order_freight_value', 'product_description_lenght', 'product_photos_qty', 'delta_days', 'pos_prob']]\n",
    "y_train = data['review_score']"
   ]
  },
  {
   "cell_type": "code",
   "execution_count": 54,
   "metadata": {},
   "outputs": [
    {
     "data": {
      "text/plain": [
       "array([0.06404949, 0.06731182, 0.0671132 , 0.01979798, 0.0587266 ,\n",
       "       0.72300091])"
      ]
     },
     "execution_count": 54,
     "metadata": {},
     "output_type": "execute_result"
    }
   ],
   "source": [
    "regr = RandomForestRegressor(n_estimators=100, max_depth=None, random_state=0)\n",
    "regr.fit(x_train,y_train)\n",
    "regr.feature_importances_"
   ]
  },
  {
   "cell_type": "code",
   "execution_count": 55,
   "metadata": {},
   "outputs": [
    {
     "data": {
      "text/plain": [
       "16357"
      ]
     },
     "execution_count": 55,
     "metadata": {},
     "output_type": "execute_result"
    }
   ],
   "source": [
    "test_data = pd.read_csv('test_data.csv')\n",
    "len(test_data)"
   ]
  },
  {
   "cell_type": "code",
   "execution_count": 56,
   "metadata": {},
   "outputs": [],
   "source": [
    "x_test = test_data[['order_products_value', 'order_freight_value', 'product_description_lenght', 'product_photos_qty', 'delta_days', 'pos_prob']]\n",
    "y_test = test_data['review_score']"
   ]
  },
  {
   "cell_type": "code",
   "execution_count": 57,
   "metadata": {},
   "outputs": [],
   "source": [
    "predictions = (regr.predict(x_test))\n",
    "pred = []\n",
    "for e in predictions:\n",
    "    pred.append(int(e))\n",
    "test_data['Prediction'] = pred"
   ]
  },
  {
   "cell_type": "code",
   "execution_count": 58,
   "metadata": {},
   "outputs": [
    {
     "data": {
      "text/html": [
       "<div>\n",
       "<style scoped>\n",
       "    .dataframe tbody tr th:only-of-type {\n",
       "        vertical-align: middle;\n",
       "    }\n",
       "\n",
       "    .dataframe tbody tr th {\n",
       "        vertical-align: top;\n",
       "    }\n",
       "\n",
       "    .dataframe thead th {\n",
       "        text-align: right;\n",
       "    }\n",
       "</style>\n",
       "<table border=\"1\" class=\"dataframe\">\n",
       "  <thead>\n",
       "    <tr style=\"text-align: right;\">\n",
       "      <th></th>\n",
       "      <th>Unnamed: 0</th>\n",
       "      <th>order_products_value</th>\n",
       "      <th>order_freight_value</th>\n",
       "      <th>product_description_lenght</th>\n",
       "      <th>product_photos_qty</th>\n",
       "      <th>review_score</th>\n",
       "      <th>review_comment_message</th>\n",
       "      <th>delta_days</th>\n",
       "      <th>Classificacao</th>\n",
       "      <th>pos_prob</th>\n",
       "      <th>Prediction</th>\n",
       "    </tr>\n",
       "  </thead>\n",
       "  <tbody>\n",
       "    <tr>\n",
       "      <th>0</th>\n",
       "      <td>31595</td>\n",
       "      <td>15.99</td>\n",
       "      <td>14.52</td>\n",
       "      <td>610</td>\n",
       "      <td>1</td>\n",
       "      <td>1</td>\n",
       "      <td>recebi a capinha correta porem a película não</td>\n",
       "      <td>6.0</td>\n",
       "      <td>-1</td>\n",
       "      <td>0.081828</td>\n",
       "      <td>2</td>\n",
       "    </tr>\n",
       "    <tr>\n",
       "      <th>1</th>\n",
       "      <td>20512</td>\n",
       "      <td>57.60</td>\n",
       "      <td>96.66</td>\n",
       "      <td>1081</td>\n",
       "      <td>1</td>\n",
       "      <td>1</td>\n",
       "      <td>comprei 6 e só recebi 5 já entrei em contato e...</td>\n",
       "      <td>7.0</td>\n",
       "      <td>-1</td>\n",
       "      <td>0.000028</td>\n",
       "      <td>1</td>\n",
       "    </tr>\n",
       "    <tr>\n",
       "      <th>2</th>\n",
       "      <td>68817</td>\n",
       "      <td>149.89</td>\n",
       "      <td>34.59</td>\n",
       "      <td>157</td>\n",
       "      <td>9</td>\n",
       "      <td>5</td>\n",
       "      <td>chegou na data certa completo bem embalado</td>\n",
       "      <td>13.0</td>\n",
       "      <td>1</td>\n",
       "      <td>0.994733</td>\n",
       "      <td>4</td>\n",
       "    </tr>\n",
       "    <tr>\n",
       "      <th>3</th>\n",
       "      <td>9516</td>\n",
       "      <td>74.99</td>\n",
       "      <td>18.10</td>\n",
       "      <td>2164</td>\n",
       "      <td>5</td>\n",
       "      <td>5</td>\n",
       "      <td>produto atendeu as expectativas recomendo</td>\n",
       "      <td>15.0</td>\n",
       "      <td>1</td>\n",
       "      <td>0.999479</td>\n",
       "      <td>4</td>\n",
       "    </tr>\n",
       "    <tr>\n",
       "      <th>4</th>\n",
       "      <td>62057</td>\n",
       "      <td>19.90</td>\n",
       "      <td>16.79</td>\n",
       "      <td>287</td>\n",
       "      <td>1</td>\n",
       "      <td>1</td>\n",
       "      <td>estou esperando</td>\n",
       "      <td>15.0</td>\n",
       "      <td>-1</td>\n",
       "      <td>0.190913</td>\n",
       "      <td>2</td>\n",
       "    </tr>\n",
       "  </tbody>\n",
       "</table>\n",
       "</div>"
      ],
      "text/plain": [
       "   Unnamed: 0  order_products_value  order_freight_value  \\\n",
       "0       31595                 15.99                14.52   \n",
       "1       20512                 57.60                96.66   \n",
       "2       68817                149.89                34.59   \n",
       "3        9516                 74.99                18.10   \n",
       "4       62057                 19.90                16.79   \n",
       "\n",
       "   product_description_lenght  product_photos_qty  review_score  \\\n",
       "0                         610                   1             1   \n",
       "1                        1081                   1             1   \n",
       "2                         157                   9             5   \n",
       "3                        2164                   5             5   \n",
       "4                         287                   1             1   \n",
       "\n",
       "                              review_comment_message  delta_days  \\\n",
       "0      recebi a capinha correta porem a película não         6.0   \n",
       "1  comprei 6 e só recebi 5 já entrei em contato e...         7.0   \n",
       "2         chegou na data certa completo bem embalado        13.0   \n",
       "3          produto atendeu as expectativas recomendo        15.0   \n",
       "4                                    estou esperando        15.0   \n",
       "\n",
       "   Classificacao  pos_prob  Prediction  \n",
       "0             -1  0.081828           2  \n",
       "1             -1  0.000028           1  \n",
       "2              1  0.994733           4  \n",
       "3              1  0.999479           4  \n",
       "4             -1  0.190913           2  "
      ]
     },
     "execution_count": 58,
     "metadata": {},
     "output_type": "execute_result"
    }
   ],
   "source": [
    "test_data.head()"
   ]
  },
  {
   "cell_type": "code",
   "execution_count": 59,
   "metadata": {},
   "outputs": [],
   "source": [
    "from sklearn.metrics import mean_squared_error"
   ]
  },
  {
   "cell_type": "code",
   "execution_count": 60,
   "metadata": {},
   "outputs": [
    {
     "data": {
      "text/plain": [
       "0.9630203209245288"
      ]
     },
     "execution_count": 60,
     "metadata": {},
     "output_type": "execute_result"
    }
   ],
   "source": [
    "mse = (mean_squared_error(y_test, (prediction)))**0.5\n",
    "mse"
   ]
  },
  {
   "cell_type": "code",
   "execution_count": null,
   "metadata": {},
   "outputs": [],
   "source": []
  }
 ],
 "metadata": {
  "kernelspec": {
   "display_name": "Python 3",
   "language": "python",
   "name": "python3"
  },
  "language_info": {
   "codemirror_mode": {
    "name": "ipython",
    "version": 3
   },
   "file_extension": ".py",
   "mimetype": "text/x-python",
   "name": "python",
   "nbconvert_exporter": "python",
   "pygments_lexer": "ipython3",
   "version": "3.6.4"
  }
 },
 "nbformat": 4,
 "nbformat_minor": 2
}
