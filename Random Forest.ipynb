{
 "cells": [
  {
   "cell_type": "code",
   "execution_count": 2,
   "metadata": {},
   "outputs": [],
   "source": [
    "import pandas as pd\n",
    "\n",
    "from sklearn.model_selection import cross_val_score\n",
    "from sklearn.ensemble import RandomForestRegressor\n"
   ]
  },
  {
   "cell_type": "code",
   "execution_count": 3,
   "metadata": {},
   "outputs": [
    {
     "data": {
      "text/plain": [
       "28624"
      ]
     },
     "execution_count": 3,
     "metadata": {},
     "output_type": "execute_result"
    }
   ],
   "source": [
    "data = pd.read_csv('train_data.csv')\n",
    "len(data)\n"
   ]
  },
  {
   "cell_type": "code",
   "execution_count": 4,
   "metadata": {},
   "outputs": [],
   "source": [
    "x_train = data[['order_freight_value', 'product_description_lenght', 'delta_days', 'pos_prob', 'neg_prob', 'neu_prob','customer_state_AC',\n",
    "       'customer_state_AL', 'customer_state_AM', 'customer_state_AP',\n",
    "       'customer_state_BA', 'customer_state_CE', 'customer_state_DF',\n",
    "       'customer_state_ES', 'customer_state_GO', 'customer_state_MA',\n",
    "       'customer_state_MG', 'customer_state_MS', 'customer_state_MT',\n",
    "       'customer_state_PA', 'customer_state_PB', 'customer_state_PE',\n",
    "       'customer_state_PI', 'customer_state_PR', 'customer_state_RJ',\n",
    "       'customer_state_RN', 'customer_state_RO', 'customer_state_RR',\n",
    "       'customer_state_RS', 'customer_state_SC', 'customer_state_SE',\n",
    "       'customer_state_SP', 'customer_state_TO']]\n",
    "y_train = data['review_score']"
   ]
  },
  {
   "cell_type": "code",
   "execution_count": 5,
   "metadata": {},
   "outputs": [
    {
     "data": {
      "text/plain": [
       "array([4.87582620e-02, 5.09299970e-02, 4.14759289e-02, 8.34511967e-02,\n",
       "       6.80800969e-01, 5.81848953e-02, 1.28231564e-04, 4.72943994e-04,\n",
       "       3.24249948e-04, 7.95508705e-05, 2.22667774e-03, 1.13917421e-03,\n",
       "       1.59519968e-03, 1.47089730e-03, 1.72250760e-03, 7.80872468e-04,\n",
       "       4.16052419e-03, 9.10575644e-04, 9.40459617e-04, 1.08128866e-03,\n",
       "       6.20880785e-04, 1.38770738e-03, 2.75288549e-04, 2.13539616e-03,\n",
       "       3.90326014e-03, 5.24025972e-04, 5.49148551e-04, 1.06735167e-04,\n",
       "       2.47790894e-03, 2.08895005e-03, 2.81416398e-04, 4.44854830e-03,\n",
       "       5.66330792e-04])"
      ]
     },
     "execution_count": 5,
     "metadata": {},
     "output_type": "execute_result"
    }
   ],
   "source": [
    "regr = RandomForestRegressor(n_estimators=100, max_depth=None, random_state=0)\n",
    "regr.fit(x_train,y_train)\n",
    "regr.feature_importances_"
   ]
  },
  {
   "cell_type": "code",
   "execution_count": 6,
   "metadata": {},
   "outputs": [
    {
     "data": {
      "text/plain": [
       "12268"
      ]
     },
     "execution_count": 6,
     "metadata": {},
     "output_type": "execute_result"
    }
   ],
   "source": [
    "test_data = pd.read_csv('test_data.csv')\n",
    "len(test_data)"
   ]
  },
  {
   "cell_type": "code",
   "execution_count": 7,
   "metadata": {},
   "outputs": [],
   "source": [
    "x_test = test_data[['order_freight_value', 'product_description_lenght', 'delta_days', 'pos_prob', 'neg_prob', 'neu_prob', 'customer_state_AC',\n",
    "       'customer_state_AL', 'customer_state_AM', 'customer_state_AP',\n",
    "       'customer_state_BA', 'customer_state_CE', 'customer_state_DF',\n",
    "       'customer_state_ES', 'customer_state_GO', 'customer_state_MA',\n",
    "       'customer_state_MG', 'customer_state_MS', 'customer_state_MT',\n",
    "       'customer_state_PA', 'customer_state_PB', 'customer_state_PE',\n",
    "       'customer_state_PI', 'customer_state_PR', 'customer_state_RJ',\n",
    "       'customer_state_RN', 'customer_state_RO', 'customer_state_RR',\n",
    "       'customer_state_RS', 'customer_state_SC', 'customer_state_SE',\n",
    "       'customer_state_SP', 'customer_state_TO']]\n",
    "y_test = test_data['review_score']"
   ]
  },
  {
   "cell_type": "code",
   "execution_count": 8,
   "metadata": {},
   "outputs": [],
   "source": [
    "predictions = (regr.predict(x_test))"
   ]
  },
  {
   "cell_type": "code",
   "execution_count": 9,
   "metadata": {},
   "outputs": [
    {
     "data": {
      "text/html": [
       "<div>\n",
       "<style scoped>\n",
       "    .dataframe tbody tr th:only-of-type {\n",
       "        vertical-align: middle;\n",
       "    }\n",
       "\n",
       "    .dataframe tbody tr th {\n",
       "        vertical-align: top;\n",
       "    }\n",
       "\n",
       "    .dataframe thead th {\n",
       "        text-align: right;\n",
       "    }\n",
       "</style>\n",
       "<table border=\"1\" class=\"dataframe\">\n",
       "  <thead>\n",
       "    <tr style=\"text-align: right;\">\n",
       "      <th></th>\n",
       "      <th>Unnamed: 0</th>\n",
       "      <th>order_products_value</th>\n",
       "      <th>order_freight_value</th>\n",
       "      <th>product_description_lenght</th>\n",
       "      <th>product_photos_qty</th>\n",
       "      <th>review_score</th>\n",
       "      <th>review_comment_message</th>\n",
       "      <th>delta_days</th>\n",
       "      <th>Classificacao</th>\n",
       "      <th>customer_state_AC</th>\n",
       "      <th>...</th>\n",
       "      <th>customer_state_RR</th>\n",
       "      <th>customer_state_RS</th>\n",
       "      <th>customer_state_SC</th>\n",
       "      <th>customer_state_SE</th>\n",
       "      <th>customer_state_SP</th>\n",
       "      <th>customer_state_TO</th>\n",
       "      <th>pos_prob</th>\n",
       "      <th>neg_prob</th>\n",
       "      <th>neu_prob</th>\n",
       "      <th>Prediction</th>\n",
       "    </tr>\n",
       "  </thead>\n",
       "  <tbody>\n",
       "    <tr>\n",
       "      <th>0</th>\n",
       "      <td>13020</td>\n",
       "      <td>49.00</td>\n",
       "      <td>17.65</td>\n",
       "      <td>348</td>\n",
       "      <td>2</td>\n",
       "      <td>1</td>\n",
       "      <td>demora demais para entrega do produto</td>\n",
       "      <td>23.0</td>\n",
       "      <td>-1</td>\n",
       "      <td>0</td>\n",
       "      <td>...</td>\n",
       "      <td>0</td>\n",
       "      <td>0</td>\n",
       "      <td>0</td>\n",
       "      <td>0</td>\n",
       "      <td>0</td>\n",
       "      <td>0</td>\n",
       "      <td>0.802357</td>\n",
       "      <td>0.152163</td>\n",
       "      <td>0.045480</td>\n",
       "      <td>1.82</td>\n",
       "    </tr>\n",
       "    <tr>\n",
       "      <th>1</th>\n",
       "      <td>60824</td>\n",
       "      <td>890.00</td>\n",
       "      <td>116.87</td>\n",
       "      <td>543</td>\n",
       "      <td>1</td>\n",
       "      <td>5</td>\n",
       "      <td>produto recebido no prazo e em perfeitas condi...</td>\n",
       "      <td>19.0</td>\n",
       "      <td>1</td>\n",
       "      <td>0</td>\n",
       "      <td>...</td>\n",
       "      <td>0</td>\n",
       "      <td>1</td>\n",
       "      <td>0</td>\n",
       "      <td>0</td>\n",
       "      <td>0</td>\n",
       "      <td>0</td>\n",
       "      <td>0.999416</td>\n",
       "      <td>0.000187</td>\n",
       "      <td>0.000397</td>\n",
       "      <td>4.72</td>\n",
       "    </tr>\n",
       "    <tr>\n",
       "      <th>2</th>\n",
       "      <td>8239</td>\n",
       "      <td>129.00</td>\n",
       "      <td>12.32</td>\n",
       "      <td>617</td>\n",
       "      <td>3</td>\n",
       "      <td>4</td>\n",
       "      <td>houve um pouco de demora mas deu tudo certo ob...</td>\n",
       "      <td>17.0</td>\n",
       "      <td>1</td>\n",
       "      <td>0</td>\n",
       "      <td>...</td>\n",
       "      <td>0</td>\n",
       "      <td>0</td>\n",
       "      <td>0</td>\n",
       "      <td>0</td>\n",
       "      <td>1</td>\n",
       "      <td>0</td>\n",
       "      <td>0.933255</td>\n",
       "      <td>0.000794</td>\n",
       "      <td>0.065951</td>\n",
       "      <td>3.31</td>\n",
       "    </tr>\n",
       "    <tr>\n",
       "      <th>3</th>\n",
       "      <td>13247</td>\n",
       "      <td>117.99</td>\n",
       "      <td>9.64</td>\n",
       "      <td>916</td>\n",
       "      <td>1</td>\n",
       "      <td>5</td>\n",
       "      <td>obrigado eu recomendo baratheon</td>\n",
       "      <td>4.0</td>\n",
       "      <td>1</td>\n",
       "      <td>0</td>\n",
       "      <td>...</td>\n",
       "      <td>0</td>\n",
       "      <td>0</td>\n",
       "      <td>0</td>\n",
       "      <td>0</td>\n",
       "      <td>1</td>\n",
       "      <td>0</td>\n",
       "      <td>0.991217</td>\n",
       "      <td>0.006855</td>\n",
       "      <td>0.001928</td>\n",
       "      <td>4.49</td>\n",
       "    </tr>\n",
       "    <tr>\n",
       "      <th>4</th>\n",
       "      <td>64389</td>\n",
       "      <td>179.40</td>\n",
       "      <td>53.01</td>\n",
       "      <td>1991</td>\n",
       "      <td>2</td>\n",
       "      <td>5</td>\n",
       "      <td>lindo o papel de parede</td>\n",
       "      <td>14.0</td>\n",
       "      <td>1</td>\n",
       "      <td>0</td>\n",
       "      <td>...</td>\n",
       "      <td>0</td>\n",
       "      <td>0</td>\n",
       "      <td>0</td>\n",
       "      <td>0</td>\n",
       "      <td>0</td>\n",
       "      <td>0</td>\n",
       "      <td>0.970413</td>\n",
       "      <td>0.008010</td>\n",
       "      <td>0.021576</td>\n",
       "      <td>4.48</td>\n",
       "    </tr>\n",
       "  </tbody>\n",
       "</table>\n",
       "<p>5 rows × 40 columns</p>\n",
       "</div>"
      ],
      "text/plain": [
       "   Unnamed: 0  order_products_value  order_freight_value  \\\n",
       "0       13020                 49.00                17.65   \n",
       "1       60824                890.00               116.87   \n",
       "2        8239                129.00                12.32   \n",
       "3       13247                117.99                 9.64   \n",
       "4       64389                179.40                53.01   \n",
       "\n",
       "   product_description_lenght  product_photos_qty  review_score  \\\n",
       "0                         348                   2             1   \n",
       "1                         543                   1             5   \n",
       "2                         617                   3             4   \n",
       "3                         916                   1             5   \n",
       "4                        1991                   2             5   \n",
       "\n",
       "                              review_comment_message  delta_days  \\\n",
       "0              demora demais para entrega do produto        23.0   \n",
       "1  produto recebido no prazo e em perfeitas condi...        19.0   \n",
       "2  houve um pouco de demora mas deu tudo certo ob...        17.0   \n",
       "3                    obrigado eu recomendo baratheon         4.0   \n",
       "4                            lindo o papel de parede        14.0   \n",
       "\n",
       "   Classificacao  customer_state_AC     ...      customer_state_RR  \\\n",
       "0             -1                  0     ...                      0   \n",
       "1              1                  0     ...                      0   \n",
       "2              1                  0     ...                      0   \n",
       "3              1                  0     ...                      0   \n",
       "4              1                  0     ...                      0   \n",
       "\n",
       "   customer_state_RS  customer_state_SC  customer_state_SE  customer_state_SP  \\\n",
       "0                  0                  0                  0                  0   \n",
       "1                  1                  0                  0                  0   \n",
       "2                  0                  0                  0                  1   \n",
       "3                  0                  0                  0                  1   \n",
       "4                  0                  0                  0                  0   \n",
       "\n",
       "   customer_state_TO  pos_prob  neg_prob  neu_prob  Prediction  \n",
       "0                  0  0.802357  0.152163  0.045480        1.82  \n",
       "1                  0  0.999416  0.000187  0.000397        4.72  \n",
       "2                  0  0.933255  0.000794  0.065951        3.31  \n",
       "3                  0  0.991217  0.006855  0.001928        4.49  \n",
       "4                  0  0.970413  0.008010  0.021576        4.48  \n",
       "\n",
       "[5 rows x 40 columns]"
      ]
     },
     "execution_count": 9,
     "metadata": {},
     "output_type": "execute_result"
    }
   ],
   "source": [
    "test_data['Prediction'] = predictions\n",
    "test_data.head()"
   ]
  },
  {
   "cell_type": "code",
   "execution_count": 16,
   "metadata": {},
   "outputs": [],
   "source": [
    "from sklearn.metrics import r2_score\n",
    "import numpy as np"
   ]
  },
  {
   "cell_type": "code",
   "execution_count": 17,
   "metadata": {},
   "outputs": [
    {
     "data": {
      "text/plain": [
       "0.6522874793960838"
      ]
     },
     "execution_count": 17,
     "metadata": {},
     "output_type": "execute_result"
    }
   ],
   "source": [
    "r2_score(y_test, predictions)"
   ]
  },
  {
   "cell_type": "code",
   "execution_count": 12,
   "metadata": {},
   "outputs": [
    {
     "data": {
      "text/plain": [
       "<matplotlib.axes._subplots.AxesSubplot at 0x22de5c1db38>"
      ]
     },
     "execution_count": 12,
     "metadata": {},
     "output_type": "execute_result"
    }
   ],
   "source": [
    "test_data['Prediction'].hist(bins=5, density=True)"
   ]
  },
  {
   "cell_type": "code",
   "execution_count": 13,
   "metadata": {},
   "outputs": [
    {
     "data": {
      "text/plain": [
       "<matplotlib.axes._subplots.AxesSubplot at 0x22de5cd81d0>"
      ]
     },
     "execution_count": 13,
     "metadata": {},
     "output_type": "execute_result"
    },
    {
     "data": {
      "image/png": "[encoded data removed]",
      "text/plain": [
       "<matplotlib.figure.Figure at 0x22de5d83668>"
      ]
     },
     "metadata": {},
     "output_type": "display_data"
    }
   ],
   "source": [
    "test_data['review_score'].hist(bins=5, density=True)"
   ]
  },
  {
   "cell_type": "code",
   "execution_count": 19,
   "metadata": {},
   "outputs": [],
   "source": [
    "import matplotlib.pyplot as plt"
   ]
  },
  {
   "cell_type": "code",
   "execution_count": 31,
   "metadata": {},
   "outputs": [
    {
     "data": {
      "image/png": "[encoded data removed]",
      "text/plain": [
       "<matplotlib.figure.Figure at 0x22d945be240>"
      ]
     },
     "metadata": {},
     "output_type": "display_data"
    }
   ],
   "source": [
    "plt.bar(test_data['review_score'], test_data['Prediction'])\n",
    "plt.xlabel('review score')\n",
    "plt.ylabel('Prediction')\n",
    "plt.show()"
   ]
  },
  {
   "cell_type": "code",
   "execution_count": 32,
   "metadata": {},
   "outputs": [
    {
     "data": {
      "text/plain": [
       "<matplotlib.axes._subplots.AxesSubplot at 0x22d91946eb8>"
      ]
     },
     "execution_count": 32,
     "metadata": {},
     "output_type": "execute_result"
    },
    {
     "data": {
      "image/png": "[encoded data removed]",
      "text/plain": [
       "<matplotlib.figure.Figure at 0x22d91582c50>"
      ]
     },
     "metadata": {},
     "output_type": "display_data"
    }
   ],
   "source": [
    "test_data.plot.bar(x='review_score', y='Prediction');"
   ]
  },
  {
   "cell_type": "code",
   "execution_count": 33,
   "metadata": {},
   "outputs": [
    {
     "data": {
      "image/png": "[encoded data removed]",
      "text/plain": [
       "<matplotlib.figure.Figure at 0x22da387b128>"
      ]
     },
     "metadata": {},
     "output_type": "display_data"
    }
   ],
   "source": [
    "test_data.plot.bar(x='Prediction', y='review_score');"
   ]
  },
  {
   "cell_type": "code",
   "execution_count": null,
   "metadata": {},
   "outputs": [],
   "source": [
    "test_data.plot.barh"
   ]
  }
 ],
 "metadata": {
  "kernelspec": {
   "display_name": "Python 3",
   "language": "python",
   "name": "python3"
  },
  "language_info": {
   "codemirror_mode": {
    "name": "ipython",
    "version": 3
   },
   "file_extension": ".py",
   "mimetype": "text/x-python",
   "name": "python",
   "nbconvert_exporter": "python",
   "pygments_lexer": "ipython3",
   "version": "3.6.4"
  }
 },
 "nbformat": 4,
 "nbformat_minor": 2
}
