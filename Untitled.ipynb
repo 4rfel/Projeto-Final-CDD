{
 "cells": [
  {
   "cell_type": "code",
   "execution_count": 53,
   "metadata": {},
   "outputs": [],
   "source": [
    "import pandas as pd\n",
    "\n",
    "from sklearn.model_selection import cross_val_score\n",
    "from sklearn.ensemble import RandomForestRegressor\n"
   ]
  },
  {
   "cell_type": "code",
   "execution_count": 61,
   "metadata": {},
   "outputs": [
    {
     "data": {
      "text/plain": [
       "4134"
      ]
     },
     "execution_count": 61,
     "metadata": {},
     "output_type": "execute_result"
    }
   ],
   "source": [
    "data = pd.read_csv('train_data.csv')\n",
    "len(data)\n"
   ]
  },
  {
   "cell_type": "code",
   "execution_count": 97,
   "metadata": {},
   "outputs": [],
   "source": [
    "x_train = data[['order_products_value', 'order_freight_value', 'product_description_lenght', 'product_photos_qty', 'delta_days']]\n",
    "y_train = data['review_score']"
   ]
  },
  {
   "cell_type": "code",
   "execution_count": 98,
   "metadata": {},
   "outputs": [
    {
     "data": {
      "text/plain": [
       "array([0.23410005, 0.26939325, 0.23776552, 0.06769223, 0.19104894])"
      ]
     },
     "execution_count": 98,
     "metadata": {},
     "output_type": "execute_result"
    }
   ],
   "source": [
    "regr = RandomForestRegressor(n_estimators=100, max_depth=None, random_state=0)\n",
    "regr.fit(x_train,y_train)\n",
    "regr.feature_importances_"
   ]
  },
  {
   "cell_type": "code",
   "execution_count": 99,
   "metadata": {},
   "outputs": [
    {
     "data": {
      "text/plain": [
       "2760"
      ]
     },
     "execution_count": 99,
     "metadata": {},
     "output_type": "execute_result"
    }
   ],
   "source": [
    "test_data = pd.read_csv('test_data.csv')\n",
    "len(test_data)"
   ]
  },
  {
   "cell_type": "code",
   "execution_count": 100,
   "metadata": {},
   "outputs": [],
   "source": [
    "x_test = test_data[['order_products_value', 'order_freight_value', 'product_description_lenght', 'product_photos_qty', 'delta_days']]\n",
    "y_test = test_data['review_score']"
   ]
  },
  {
   "cell_type": "code",
   "execution_count": 101,
   "metadata": {},
   "outputs": [],
   "source": [
    "prediction = regr.predict(x_test)\n",
    "test_data['Prediction'] = prediction"
   ]
  },
  {
   "cell_type": "code",
   "execution_count": 102,
   "metadata": {},
   "outputs": [
    {
     "data": {
      "text/html": [
       "<div>\n",
       "<style scoped>\n",
       "    .dataframe tbody tr th:only-of-type {\n",
       "        vertical-align: middle;\n",
       "    }\n",
       "\n",
       "    .dataframe tbody tr th {\n",
       "        vertical-align: top;\n",
       "    }\n",
       "\n",
       "    .dataframe thead th {\n",
       "        text-align: right;\n",
       "    }\n",
       "</style>\n",
       "<table border=\"1\" class=\"dataframe\">\n",
       "  <thead>\n",
       "    <tr style=\"text-align: right;\">\n",
       "      <th></th>\n",
       "      <th>Unnamed: 0</th>\n",
       "      <th>order_products_value</th>\n",
       "      <th>order_freight_value</th>\n",
       "      <th>product_description_lenght</th>\n",
       "      <th>product_photos_qty</th>\n",
       "      <th>review_score</th>\n",
       "      <th>review_comment_message</th>\n",
       "      <th>delta_days</th>\n",
       "      <th>Classificacao</th>\n",
       "      <th>Prediction</th>\n",
       "    </tr>\n",
       "  </thead>\n",
       "  <tbody>\n",
       "    <tr>\n",
       "      <th>0</th>\n",
       "      <td>60383</td>\n",
       "      <td>59.99</td>\n",
       "      <td>14.00</td>\n",
       "      <td>625</td>\n",
       "      <td>1</td>\n",
       "      <td>5</td>\n",
       "      <td>adorei o produto adorei comprar por esse site ...</td>\n",
       "      <td>8</td>\n",
       "      <td>1</td>\n",
       "      <td>3.82</td>\n",
       "    </tr>\n",
       "    <tr>\n",
       "      <th>1</th>\n",
       "      <td>60385</td>\n",
       "      <td>69.99</td>\n",
       "      <td>44.48</td>\n",
       "      <td>883</td>\n",
       "      <td>1</td>\n",
       "      <td>2</td>\n",
       "      <td>gostaria de informações sobre a não entrega do...</td>\n",
       "      <td>17</td>\n",
       "      <td>-1</td>\n",
       "      <td>3.12</td>\n",
       "    </tr>\n",
       "    <tr>\n",
       "      <th>2</th>\n",
       "      <td>60392</td>\n",
       "      <td>35.99</td>\n",
       "      <td>7.51</td>\n",
       "      <td>264</td>\n",
       "      <td>2</td>\n",
       "      <td>5</td>\n",
       "      <td>satisfeita com o produto e com a loja recomendo</td>\n",
       "      <td>2</td>\n",
       "      <td>1</td>\n",
       "      <td>3.75</td>\n",
       "    </tr>\n",
       "    <tr>\n",
       "      <th>3</th>\n",
       "      <td>60411</td>\n",
       "      <td>69.90</td>\n",
       "      <td>0.00</td>\n",
       "      <td>903</td>\n",
       "      <td>6</td>\n",
       "      <td>5</td>\n",
       "      <td>tudo fio entregue corretamente</td>\n",
       "      <td>58</td>\n",
       "      <td>1</td>\n",
       "      <td>2.41</td>\n",
       "    </tr>\n",
       "    <tr>\n",
       "      <th>4</th>\n",
       "      <td>60412</td>\n",
       "      <td>18.90</td>\n",
       "      <td>13.47</td>\n",
       "      <td>430</td>\n",
       "      <td>1</td>\n",
       "      <td>3</td>\n",
       "      <td>o produto chegou muito rápido embora o modelo ...</td>\n",
       "      <td>7</td>\n",
       "      <td>0</td>\n",
       "      <td>3.93</td>\n",
       "    </tr>\n",
       "  </tbody>\n",
       "</table>\n",
       "</div>"
      ],
      "text/plain": [
       "   Unnamed: 0  order_products_value  order_freight_value  \\\n",
       "0       60383                 59.99                14.00   \n",
       "1       60385                 69.99                44.48   \n",
       "2       60392                 35.99                 7.51   \n",
       "3       60411                 69.90                 0.00   \n",
       "4       60412                 18.90                13.47   \n",
       "\n",
       "   product_description_lenght  product_photos_qty  review_score  \\\n",
       "0                         625                   1             5   \n",
       "1                         883                   1             2   \n",
       "2                         264                   2             5   \n",
       "3                         903                   6             5   \n",
       "4                         430                   1             3   \n",
       "\n",
       "                              review_comment_message  delta_days  \\\n",
       "0  adorei o produto adorei comprar por esse site ...           8   \n",
       "1  gostaria de informações sobre a não entrega do...          17   \n",
       "2    satisfeita com o produto e com a loja recomendo           2   \n",
       "3                     tudo fio entregue corretamente          58   \n",
       "4  o produto chegou muito rápido embora o modelo ...           7   \n",
       "\n",
       "   Classificacao  Prediction  \n",
       "0              1        3.82  \n",
       "1             -1        3.12  \n",
       "2              1        3.75  \n",
       "3              1        2.41  \n",
       "4              0        3.93  "
      ]
     },
     "execution_count": 102,
     "metadata": {},
     "output_type": "execute_result"
    }
   ],
   "source": [
    "test_data.head()"
   ]
  },
  {
   "cell_type": "code",
   "execution_count": 103,
   "metadata": {},
   "outputs": [],
   "source": [
    "from sklearn.metrics import mean_squared_error"
   ]
  },
  {
   "cell_type": "code",
   "execution_count": 105,
   "metadata": {},
   "outputs": [
    {
     "data": {
      "text/plain": [
       "1.5245267048261855"
      ]
     },
     "execution_count": 105,
     "metadata": {},
     "output_type": "execute_result"
    }
   ],
   "source": [
    "mse = (mean_squared_error(y_test, prediction))**0.5\n",
    "mse"
   ]
  },
  {
   "cell_type": "code",
   "execution_count": null,
   "metadata": {},
   "outputs": [],
   "source": [
    "acertos = 0\n",
    "i = 0\n",
    "for e in prediction:\n",
    "    if e == "
   ]
  }
 ],
 "metadata": {
  "kernelspec": {
   "display_name": "Python 3",
   "language": "python",
   "name": "python3"
  },
  "language_info": {
   "codemirror_mode": {
    "name": "ipython",
    "version": 3
   },
   "file_extension": ".py",
   "mimetype": "text/x-python",
   "name": "python",
   "nbconvert_exporter": "python",
   "pygments_lexer": "ipython3",
   "version": "3.6.4"
  }
 },
 "nbformat": 4,
 "nbformat_minor": 2
}
