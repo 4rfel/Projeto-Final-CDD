{
 "cells": [
  {
   "cell_type": "code",
   "execution_count": 1,
   "metadata": {},
   "outputs": [
    {
     "name": "stderr",
     "output_type": "stream",
     "text": [
      "C:\\Users\\rafae\\Anaconda3\\lib\\site-packages\\statsmodels\\compat\\pandas.py:56: FutureWarning: The pandas.core.datetools module is deprecated and will be removed in a future version. Please use the pandas.tseries module instead.\n",
      "  from pandas.core import datetools\n"
     ]
    }
   ],
   "source": [
    "import pandas as pd\n",
    "import numpy as np\n",
    "import statsmodels.api as sm\n",
    "import matplotlib.pyplot as plt\n",
    "from sklearn.model_selection import cross_val_score"
   ]
  },
  {
   "cell_type": "code",
   "execution_count": 2,
   "metadata": {},
   "outputs": [],
   "source": [
    "data = pd.read_csv('train_data.csv')"
   ]
  },
  {
   "cell_type": "code",
   "execution_count": 3,
   "metadata": {},
   "outputs": [],
   "source": [
    "def regress(X,Y):\n",
    "    X_cp = sm.add_constant(X)\n",
    "    model = sm.OLS(Y,X_cp)\n",
    "    results = model.fit()\n",
    "    return results\n",
    "\n"
   ]
  },
  {
   "cell_type": "code",
   "execution_count": 4,
   "metadata": {},
   "outputs": [],
   "source": [
    "x_train = data[['order_freight_value', 'product_description_lenght', 'delta_days', 'pos_prob', 'neg_prob', 'neu_prob','customer_state_AC',\n",
    "       'customer_state_AL', 'customer_state_AM', 'customer_state_AP',\n",
    "       'customer_state_BA', 'customer_state_CE', 'customer_state_DF',\n",
    "       'customer_state_ES', 'customer_state_GO', 'customer_state_MA',\n",
    "       'customer_state_MG', 'customer_state_MS', 'customer_state_MT',\n",
    "       'customer_state_PA', 'customer_state_PB', 'customer_state_PE',\n",
    "       'customer_state_PI', 'customer_state_PR', 'customer_state_RJ',\n",
    "       'customer_state_RN', 'customer_state_RO', 'customer_state_RR',\n",
    "       'customer_state_RS', 'customer_state_SC', 'customer_state_SE',\n",
    "       'customer_state_SP', 'customer_state_TO']]\n",
    "y_train = data['review_score']"
   ]
  },
  {
   "cell_type": "code",
   "execution_count": 19,
   "metadata": {},
   "outputs": [
    {
     "name": "stdout",
     "output_type": "stream",
     "text": [
      "<class 'pandas.core.frame.DataFrame'>\n",
      "RangeIndex: 28624 entries, 0 to 28623\n",
      "Data columns (total 33 columns):\n",
      "order_freight_value           28624 non-null float64\n",
      "product_description_lenght    28624 non-null int64\n",
      "delta_days                    28624 non-null float64\n",
      "pos_prob                      28624 non-null float64\n",
      "neg_prob                      28624 non-null float64\n",
      "neu_prob                      28624 non-null float64\n",
      "customer_state_AC             28624 non-null int64\n",
      "customer_state_AL             28624 non-null int64\n",
      "customer_state_AM             28624 non-null int64\n",
      "customer_state_AP             28624 non-null int64\n",
      "customer_state_BA             28624 non-null int64\n",
      "customer_state_CE             28624 non-null int64\n",
      "customer_state_DF             28624 non-null int64\n",
      "customer_state_ES             28624 non-null int64\n",
      "customer_state_GO             28624 non-null int64\n",
      "customer_state_MA             28624 non-null int64\n",
      "customer_state_MG             28624 non-null int64\n",
      "customer_state_MS             28624 non-null int64\n",
      "customer_state_MT             28624 non-null int64\n",
      "customer_state_PA             28624 non-null int64\n",
      "customer_state_PB             28624 non-null int64\n",
      "customer_state_PE             28624 non-null int64\n",
      "customer_state_PI             28624 non-null int64\n",
      "customer_state_PR             28624 non-null int64\n",
      "customer_state_RJ             28624 non-null int64\n",
      "customer_state_RN             28624 non-null int64\n",
      "customer_state_RO             28624 non-null int64\n",
      "customer_state_RR             28624 non-null int64\n",
      "customer_state_RS             28624 non-null int64\n",
      "customer_state_SC             28624 non-null int64\n",
      "customer_state_SE             28624 non-null int64\n",
      "customer_state_SP             28624 non-null int64\n",
      "customer_state_TO             28624 non-null int64\n",
      "dtypes: float64(5), int64(28)\n",
      "memory usage: 7.2 MB\n"
     ]
    }
   ],
   "source": [
    "x_train.info()"
   ]
  },
  {
   "cell_type": "code",
   "execution_count": 5,
   "metadata": {},
   "outputs": [
    {
     "data": {
      "text/html": [
       "<table class=\"simpletable\">\n",
       "<caption>OLS Regression Results</caption>\n",
       "<tr>\n",
       "  <th>Dep. Variable:</th>      <td>review_score</td>   <th>  R-squared:         </th> <td>   0.684</td> \n",
       "</tr>\n",
       "<tr>\n",
       "  <th>Model:</th>                   <td>OLS</td>       <th>  Adj. R-squared:    </th> <td>   0.684</td> \n",
       "</tr>\n",
       "<tr>\n",
       "  <th>Method:</th>             <td>Least Squares</td>  <th>  F-statistic:       </th> <td>   2001.</td> \n",
       "</tr>\n",
       "<tr>\n",
       "  <th>Date:</th>             <td>Thu, 22 Nov 2018</td> <th>  Prob (F-statistic):</th>  <td>  0.00</td>  \n",
       "</tr>\n",
       "<tr>\n",
       "  <th>Time:</th>                 <td>15:25:52</td>     <th>  Log-Likelihood:    </th> <td> -37340.</td> \n",
       "</tr>\n",
       "<tr>\n",
       "  <th>No. Observations:</th>      <td> 28624</td>      <th>  AIC:               </th> <td>7.474e+04</td>\n",
       "</tr>\n",
       "<tr>\n",
       "  <th>Df Residuals:</th>          <td> 28592</td>      <th>  BIC:               </th> <td>7.501e+04</td>\n",
       "</tr>\n",
       "<tr>\n",
       "  <th>Df Model:</th>              <td>    31</td>      <th>                     </th>     <td> </td>    \n",
       "</tr>\n",
       "<tr>\n",
       "  <th>Covariance Type:</th>      <td>nonrobust</td>    <th>                     </th>     <td> </td>    \n",
       "</tr>\n",
       "</table>\n",
       "<table class=\"simpletable\">\n",
       "<tr>\n",
       "               <td></td>                 <th>coef</th>     <th>std err</th>      <th>t</th>      <th>P>|t|</th>  <th>[0.025</th>    <th>0.975]</th>  \n",
       "</tr>\n",
       "<tr>\n",
       "  <th>const</th>                      <td>    2.4837</td> <td>    0.017</td> <td>  144.546</td> <td> 0.000</td> <td>    2.450</td> <td>    2.517</td>\n",
       "</tr>\n",
       "<tr>\n",
       "  <th>order_freight_value</th>        <td>    0.0003</td> <td>    0.000</td> <td>    1.045</td> <td> 0.296</td> <td>   -0.000</td> <td>    0.001</td>\n",
       "</tr>\n",
       "<tr>\n",
       "  <th>product_description_lenght</th> <td> 3.154e-05</td> <td>  8.1e-06</td> <td>    3.896</td> <td> 0.000</td> <td> 1.57e-05</td> <td> 4.74e-05</td>\n",
       "</tr>\n",
       "<tr>\n",
       "  <th>delta_days</th>                 <td>   -0.0153</td> <td>    0.001</td> <td>  -27.689</td> <td> 0.000</td> <td>   -0.016</td> <td>   -0.014</td>\n",
       "</tr>\n",
       "<tr>\n",
       "  <th>pos_prob</th>                   <td>    2.3045</td> <td>    0.010</td> <td>  230.093</td> <td> 0.000</td> <td>    2.285</td> <td>    2.324</td>\n",
       "</tr>\n",
       "<tr>\n",
       "  <th>neg_prob</th>                   <td>   -0.7635</td> <td>    0.013</td> <td>  -57.564</td> <td> 0.000</td> <td>   -0.790</td> <td>   -0.738</td>\n",
       "</tr>\n",
       "<tr>\n",
       "  <th>neu_prob</th>                   <td>    0.9426</td> <td>    0.021</td> <td>   44.341</td> <td> 0.000</td> <td>    0.901</td> <td>    0.984</td>\n",
       "</tr>\n",
       "<tr>\n",
       "  <th>customer_state_AC</th>          <td>   -0.0923</td> <td>    0.176</td> <td>   -0.524</td> <td> 0.601</td> <td>   -0.438</td> <td>    0.253</td>\n",
       "</tr>\n",
       "<tr>\n",
       "  <th>customer_state_AL</th>          <td>    0.0330</td> <td>    0.074</td> <td>    0.447</td> <td> 0.655</td> <td>   -0.112</td> <td>    0.178</td>\n",
       "</tr>\n",
       "<tr>\n",
       "  <th>customer_state_AM</th>          <td>    0.5478</td> <td>    0.122</td> <td>    4.504</td> <td> 0.000</td> <td>    0.309</td> <td>    0.786</td>\n",
       "</tr>\n",
       "<tr>\n",
       "  <th>customer_state_AP</th>          <td>    0.0873</td> <td>    0.198</td> <td>    0.441</td> <td> 0.659</td> <td>   -0.301</td> <td>    0.475</td>\n",
       "</tr>\n",
       "<tr>\n",
       "  <th>customer_state_BA</th>          <td>    0.0153</td> <td>    0.030</td> <td>    0.508</td> <td> 0.611</td> <td>   -0.044</td> <td>    0.074</td>\n",
       "</tr>\n",
       "<tr>\n",
       "  <th>customer_state_CE</th>          <td>    0.1328</td> <td>    0.043</td> <td>    3.059</td> <td> 0.002</td> <td>    0.048</td> <td>    0.218</td>\n",
       "</tr>\n",
       "<tr>\n",
       "  <th>customer_state_DF</th>          <td>    0.0004</td> <td>    0.041</td> <td>    0.009</td> <td> 0.993</td> <td>   -0.080</td> <td>    0.081</td>\n",
       "</tr>\n",
       "<tr>\n",
       "  <th>customer_state_ES</th>          <td>    0.0774</td> <td>    0.039</td> <td>    1.981</td> <td> 0.048</td> <td>    0.001</td> <td>    0.154</td>\n",
       "</tr>\n",
       "<tr>\n",
       "  <th>customer_state_GO</th>          <td>    0.0762</td> <td>    0.039</td> <td>    1.971</td> <td> 0.049</td> <td>    0.000</td> <td>    0.152</td>\n",
       "</tr>\n",
       "<tr>\n",
       "  <th>customer_state_MA</th>          <td>    0.0006</td> <td>    0.058</td> <td>    0.011</td> <td> 0.991</td> <td>   -0.113</td> <td>    0.114</td>\n",
       "</tr>\n",
       "<tr>\n",
       "  <th>customer_state_MG</th>          <td>   -0.0034</td> <td>    0.023</td> <td>   -0.150</td> <td> 0.881</td> <td>   -0.048</td> <td>    0.041</td>\n",
       "</tr>\n",
       "<tr>\n",
       "  <th>customer_state_MS</th>          <td>   -0.0011</td> <td>    0.062</td> <td>   -0.018</td> <td> 0.986</td> <td>   -0.123</td> <td>    0.120</td>\n",
       "</tr>\n",
       "<tr>\n",
       "  <th>customer_state_MT</th>          <td>    0.0252</td> <td>    0.053</td> <td>    0.476</td> <td> 0.634</td> <td>   -0.079</td> <td>    0.129</td>\n",
       "</tr>\n",
       "<tr>\n",
       "  <th>customer_state_PA</th>          <td>    0.1700</td> <td>    0.049</td> <td>    3.440</td> <td> 0.001</td> <td>    0.073</td> <td>    0.267</td>\n",
       "</tr>\n",
       "<tr>\n",
       "  <th>customer_state_PB</th>          <td>    0.1275</td> <td>    0.065</td> <td>    1.948</td> <td> 0.051</td> <td>   -0.001</td> <td>    0.256</td>\n",
       "</tr>\n",
       "<tr>\n",
       "  <th>customer_state_PE</th>          <td>    0.0598</td> <td>    0.040</td> <td>    1.476</td> <td> 0.140</td> <td>   -0.020</td> <td>    0.139</td>\n",
       "</tr>\n",
       "<tr>\n",
       "  <th>customer_state_PI</th>          <td>    0.0486</td> <td>    0.075</td> <td>    0.649</td> <td> 0.516</td> <td>   -0.098</td> <td>    0.195</td>\n",
       "</tr>\n",
       "<tr>\n",
       "  <th>customer_state_PR</th>          <td>    0.0495</td> <td>    0.029</td> <td>    1.698</td> <td> 0.090</td> <td>   -0.008</td> <td>    0.107</td>\n",
       "</tr>\n",
       "<tr>\n",
       "  <th>customer_state_RJ</th>          <td>    0.0585</td> <td>    0.022</td> <td>    2.717</td> <td> 0.007</td> <td>    0.016</td> <td>    0.101</td>\n",
       "</tr>\n",
       "<tr>\n",
       "  <th>customer_state_RN</th>          <td>    0.1414</td> <td>    0.070</td> <td>    2.008</td> <td> 0.045</td> <td>    0.003</td> <td>    0.279</td>\n",
       "</tr>\n",
       "<tr>\n",
       "  <th>customer_state_RO</th>          <td>    0.2465</td> <td>    0.092</td> <td>    2.665</td> <td> 0.008</td> <td>    0.065</td> <td>    0.428</td>\n",
       "</tr>\n",
       "<tr>\n",
       "  <th>customer_state_RR</th>          <td>    0.4208</td> <td>    0.223</td> <td>    1.889</td> <td> 0.059</td> <td>   -0.016</td> <td>    0.857</td>\n",
       "</tr>\n",
       "<tr>\n",
       "  <th>customer_state_RS</th>          <td>    0.0827</td> <td>    0.028</td> <td>    2.936</td> <td> 0.003</td> <td>    0.027</td> <td>    0.138</td>\n",
       "</tr>\n",
       "<tr>\n",
       "  <th>customer_state_SC</th>          <td>    0.0329</td> <td>    0.032</td> <td>    1.024</td> <td> 0.306</td> <td>   -0.030</td> <td>    0.096</td>\n",
       "</tr>\n",
       "<tr>\n",
       "  <th>customer_state_SE</th>          <td>    0.0931</td> <td>    0.083</td> <td>    1.122</td> <td> 0.262</td> <td>   -0.069</td> <td>    0.256</td>\n",
       "</tr>\n",
       "<tr>\n",
       "  <th>customer_state_SP</th>          <td>    0.0002</td> <td>    0.020</td> <td>    0.010</td> <td> 0.992</td> <td>   -0.038</td> <td>    0.039</td>\n",
       "</tr>\n",
       "<tr>\n",
       "  <th>customer_state_TO</th>          <td>    0.0533</td> <td>    0.098</td> <td>    0.546</td> <td> 0.585</td> <td>   -0.138</td> <td>    0.245</td>\n",
       "</tr>\n",
       "</table>\n",
       "<table class=\"simpletable\">\n",
       "<tr>\n",
       "  <th>Omnibus:</th>       <td>2400.660</td> <th>  Durbin-Watson:     </th> <td>   2.013</td> \n",
       "</tr>\n",
       "<tr>\n",
       "  <th>Prob(Omnibus):</th>  <td> 0.000</td>  <th>  Jarque-Bera (JB):  </th> <td>13393.570</td>\n",
       "</tr>\n",
       "<tr>\n",
       "  <th>Skew:</th>           <td>-0.193</td>  <th>  Prob(JB):          </th> <td>    0.00</td> \n",
       "</tr>\n",
       "<tr>\n",
       "  <th>Kurtosis:</th>       <td> 6.329</td>  <th>  Cond. No.          </th> <td>5.57e+16</td> \n",
       "</tr>\n",
       "</table>"
      ],
      "text/plain": [
       "<class 'statsmodels.iolib.summary.Summary'>\n",
       "\"\"\"\n",
       "                            OLS Regression Results                            \n",
       "==============================================================================\n",
       "Dep. Variable:           review_score   R-squared:                       0.684\n",
       "Model:                            OLS   Adj. R-squared:                  0.684\n",
       "Method:                 Least Squares   F-statistic:                     2001.\n",
       "Date:                Thu, 22 Nov 2018   Prob (F-statistic):               0.00\n",
       "Time:                        15:25:52   Log-Likelihood:                -37340.\n",
       "No. Observations:               28624   AIC:                         7.474e+04\n",
       "Df Residuals:                   28592   BIC:                         7.501e+04\n",
       "Df Model:                          31                                         \n",
       "Covariance Type:            nonrobust                                         \n",
       "==============================================================================================\n",
       "                                 coef    std err          t      P>|t|      [0.025      0.975]\n",
       "----------------------------------------------------------------------------------------------\n",
       "const                          2.4837      0.017    144.546      0.000       2.450       2.517\n",
       "order_freight_value            0.0003      0.000      1.045      0.296      -0.000       0.001\n",
       "product_description_lenght  3.154e-05    8.1e-06      3.896      0.000    1.57e-05    4.74e-05\n",
       "delta_days                    -0.0153      0.001    -27.689      0.000      -0.016      -0.014\n",
       "pos_prob                       2.3045      0.010    230.093      0.000       2.285       2.324\n",
       "neg_prob                      -0.7635      0.013    -57.564      0.000      -0.790      -0.738\n",
       "neu_prob                       0.9426      0.021     44.341      0.000       0.901       0.984\n",
       "customer_state_AC             -0.0923      0.176     -0.524      0.601      -0.438       0.253\n",
       "customer_state_AL              0.0330      0.074      0.447      0.655      -0.112       0.178\n",
       "customer_state_AM              0.5478      0.122      4.504      0.000       0.309       0.786\n",
       "customer_state_AP              0.0873      0.198      0.441      0.659      -0.301       0.475\n",
       "customer_state_BA              0.0153      0.030      0.508      0.611      -0.044       0.074\n",
       "customer_state_CE              0.1328      0.043      3.059      0.002       0.048       0.218\n",
       "customer_state_DF              0.0004      0.041      0.009      0.993      -0.080       0.081\n",
       "customer_state_ES              0.0774      0.039      1.981      0.048       0.001       0.154\n",
       "customer_state_GO              0.0762      0.039      1.971      0.049       0.000       0.152\n",
       "customer_state_MA              0.0006      0.058      0.011      0.991      -0.113       0.114\n",
       "customer_state_MG             -0.0034      0.023     -0.150      0.881      -0.048       0.041\n",
       "customer_state_MS             -0.0011      0.062     -0.018      0.986      -0.123       0.120\n",
       "customer_state_MT              0.0252      0.053      0.476      0.634      -0.079       0.129\n",
       "customer_state_PA              0.1700      0.049      3.440      0.001       0.073       0.267\n",
       "customer_state_PB              0.1275      0.065      1.948      0.051      -0.001       0.256\n",
       "customer_state_PE              0.0598      0.040      1.476      0.140      -0.020       0.139\n",
       "customer_state_PI              0.0486      0.075      0.649      0.516      -0.098       0.195\n",
       "customer_state_PR              0.0495      0.029      1.698      0.090      -0.008       0.107\n",
       "customer_state_RJ              0.0585      0.022      2.717      0.007       0.016       0.101\n",
       "customer_state_RN              0.1414      0.070      2.008      0.045       0.003       0.279\n",
       "customer_state_RO              0.2465      0.092      2.665      0.008       0.065       0.428\n",
       "customer_state_RR              0.4208      0.223      1.889      0.059      -0.016       0.857\n",
       "customer_state_RS              0.0827      0.028      2.936      0.003       0.027       0.138\n",
       "customer_state_SC              0.0329      0.032      1.024      0.306      -0.030       0.096\n",
       "customer_state_SE              0.0931      0.083      1.122      0.262      -0.069       0.256\n",
       "customer_state_SP              0.0002      0.020      0.010      0.992      -0.038       0.039\n",
       "customer_state_TO              0.0533      0.098      0.546      0.585      -0.138       0.245\n",
       "==============================================================================\n",
       "Omnibus:                     2400.660   Durbin-Watson:                   2.013\n",
       "Prob(Omnibus):                  0.000   Jarque-Bera (JB):            13393.570\n",
       "Skew:                          -0.193   Prob(JB):                         0.00\n",
       "Kurtosis:                       6.329   Cond. No.                     5.57e+16\n",
       "==============================================================================\n",
       "\n",
       "Warnings:\n",
       "[1] Standard Errors assume that the covariance matrix of the errors is correctly specified.\n",
       "[2] The smallest eigenvalue is 9.41e-24. This might indicate that there are\n",
       "strong multicollinearity problems or that the design matrix is singular.\n",
       "\"\"\""
      ]
     },
     "execution_count": 5,
     "metadata": {},
     "output_type": "execute_result"
    }
   ],
   "source": [
    "model = regress(x_train,y_train)\n",
    "model.summary()"
   ]
  },
  {
   "cell_type": "code",
   "execution_count": 6,
   "metadata": {},
   "outputs": [
    {
     "ename": "NameError",
     "evalue": "name 'results' is not defined",
     "output_type": "error",
     "traceback": [
      "\u001b[1;31m---------------------------------------------------------------------------\u001b[0m",
      "\u001b[1;31mNameError\u001b[0m                                 Traceback (most recent call last)",
      "\u001b[1;32m<ipython-input-6-e4024ae993a4>\u001b[0m in \u001b[0;36m<module>\u001b[1;34m()\u001b[0m\n\u001b[1;32m----> 1\u001b[1;33m \u001b[0mcross\u001b[0m \u001b[1;33m=\u001b[0m \u001b[0mcross_val_score\u001b[0m\u001b[1;33m(\u001b[0m\u001b[0mresults\u001b[0m\u001b[1;33m,\u001b[0m \u001b[0mx_train\u001b[0m\u001b[1;33m,\u001b[0m \u001b[0my_train\u001b[0m\u001b[1;33m,\u001b[0m \u001b[0mcv\u001b[0m\u001b[1;33m=\u001b[0m\u001b[1;36m10\u001b[0m\u001b[1;33m)\u001b[0m\u001b[1;33m\u001b[0m\u001b[0m\n\u001b[0m",
      "\u001b[1;31mNameError\u001b[0m: name 'results' is not defined"
     ]
    }
   ],
   "source": [
    "cross = cross_val_score(results, x_train, y_train, cv=10)"
   ]
  },
  {
   "cell_type": "code",
   "execution_count": null,
   "metadata": {},
   "outputs": [],
   "source": [
    "np.mean(cross)"
   ]
  },
  {
   "cell_type": "code",
   "execution_count": 7,
   "metadata": {},
   "outputs": [],
   "source": [
    "test_data = pd.read_csv('test_data.csv')"
   ]
  },
  {
   "cell_type": "code",
   "execution_count": 22,
   "metadata": {},
   "outputs": [],
   "source": [
    "x_test = test_data[['order_freight_value', 'product_description_lenght', 'delta_days', 'pos_prob', 'neg_prob', 'neu_prob','customer_state_AC',\n",
    "       'customer_state_AL', 'customer_state_AM', 'customer_state_AP',\n",
    "       'customer_state_BA', 'customer_state_CE', 'customer_state_DF',\n",
    "       'customer_state_ES', 'customer_state_GO', 'customer_state_MA',\n",
    "       'customer_state_MG', 'customer_state_MS', 'customer_state_MT',\n",
    "       'customer_state_PA', 'customer_state_PB', 'customer_state_PE',\n",
    "       'customer_state_PI', 'customer_state_PR', 'customer_state_RJ',\n",
    "       'customer_state_RN', 'customer_state_RO', 'customer_state_RR',\n",
    "       'customer_state_RS', 'customer_state_SC', 'customer_state_SE',\n",
    "       'customer_state_SP', 'customer_state_TO']]\n",
    "x_test = sm.add_constant(x_test)\n",
    "y_test = test_data['review_score']"
   ]
  },
  {
   "cell_type": "code",
   "execution_count": 23,
   "metadata": {},
   "outputs": [
    {
     "name": "stdout",
     "output_type": "stream",
     "text": [
      "<class 'pandas.core.frame.DataFrame'>\n",
      "RangeIndex: 12268 entries, 0 to 12267\n",
      "Data columns (total 34 columns):\n",
      "const                         12268 non-null float64\n",
      "order_freight_value           12268 non-null float64\n",
      "product_description_lenght    12268 non-null int64\n",
      "delta_days                    12268 non-null float64\n",
      "pos_prob                      12268 non-null float64\n",
      "neg_prob                      12268 non-null float64\n",
      "neu_prob                      12268 non-null float64\n",
      "customer_state_AC             12268 non-null int64\n",
      "customer_state_AL             12268 non-null int64\n",
      "customer_state_AM             12268 non-null int64\n",
      "customer_state_AP             12268 non-null int64\n",
      "customer_state_BA             12268 non-null int64\n",
      "customer_state_CE             12268 non-null int64\n",
      "customer_state_DF             12268 non-null int64\n",
      "customer_state_ES             12268 non-null int64\n",
      "customer_state_GO             12268 non-null int64\n",
      "customer_state_MA             12268 non-null int64\n",
      "customer_state_MG             12268 non-null int64\n",
      "customer_state_MS             12268 non-null int64\n",
      "customer_state_MT             12268 non-null int64\n",
      "customer_state_PA             12268 non-null int64\n",
      "customer_state_PB             12268 non-null int64\n",
      "customer_state_PE             12268 non-null int64\n",
      "customer_state_PI             12268 non-null int64\n",
      "customer_state_PR             12268 non-null int64\n",
      "customer_state_RJ             12268 non-null int64\n",
      "customer_state_RN             12268 non-null int64\n",
      "customer_state_RO             12268 non-null int64\n",
      "customer_state_RR             12268 non-null int64\n",
      "customer_state_RS             12268 non-null int64\n",
      "customer_state_SC             12268 non-null int64\n",
      "customer_state_SE             12268 non-null int64\n",
      "customer_state_SP             12268 non-null int64\n",
      "customer_state_TO             12268 non-null int64\n",
      "dtypes: float64(6), int64(28)\n",
      "memory usage: 3.2 MB\n"
     ]
    }
   ],
   "source": [
    "x_test.info()"
   ]
  },
  {
   "cell_type": "code",
   "execution_count": 24,
   "metadata": {},
   "outputs": [],
   "source": [
    "predictions =  model.predict(x_test.iloc[0,:])"
   ]
  },
  {
   "cell_type": "code",
   "execution_count": 25,
   "metadata": {},
   "outputs": [
    {
     "data": {
      "text/plain": [
       "(28624, 33)"
      ]
     },
     "execution_count": 25,
     "metadata": {},
     "output_type": "execute_result"
    }
   ],
   "source": [
    "x_train.shape"
   ]
  }
 ],
 "metadata": {
  "kernelspec": {
   "display_name": "Python 3",
   "language": "python",
   "name": "python3"
  },
  "language_info": {
   "codemirror_mode": {
    "name": "ipython",
    "version": 3
   },
   "file_extension": ".py",
   "mimetype": "text/x-python",
   "name": "python",
   "nbconvert_exporter": "python",
   "pygments_lexer": "ipython3",
   "version": "3.6.4"
  }
 },
 "nbformat": 4,
 "nbformat_minor": 2
}
